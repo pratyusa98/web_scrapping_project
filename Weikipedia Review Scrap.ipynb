{
 "cells": [
  {
   "cell_type": "code",
   "execution_count": 2,
   "metadata": {},
   "outputs": [
    {
     "name": "stdout",
     "output_type": "stream",
     "text": [
      "Enter Name: deep learning\n",
      "Deep learning  (also known as deep structured learning) is part of a broader family of machine learning methods based on artificial neural networks with representation learning. Learning can be supervised, semi-supervised or unsupervised.    .Deep learning architectures such as deep neural networks, deep belief networks, recurrent neural networks and convolutional neural networks have been applied to fields including computer vision, machine vision, speech recognition, natural language processing, audio recognition, social network filtering, machine translation, bioinformatics, drug design, medical image analysis, material inspection and board game programs, where they have produced results comparable to and in some cases surpassing human expert performance.    .Artificial neural networks (ANNs) were inspired by information processing and distributed communication nodes in biological systems. ANNs have various differences from biological brains.  Specifically, neural networks tend to be static and symbolic, while the biological brain of most living organisms is dynamic (plastic) and analog.    .The adjective \"deep\" in deep learning comes from the use of multiple layers in the network. Early work showed that a linear perceptron cannot be a universal classifier, and then that a network with a nonpolynomial activation function with one hidden layer of unbounded width can on the other hand so be. Deep learning is a modern variation which is concerned with an unbounded number of layers of bounded size, which permits practical application and optimized implementation, while retaining theoretical universality under mild conditions. In deep learning the layers are also permitted to be heterogeneous and to deviate widely from biologically informed connectionist models, for the sake of efficiency, trainability and understandability, whence the \"structured\" part. .Deep learning is a class of machine learning algorithms that (pp199–200) uses multiple layers to progressively extract higher level features from the raw input.\n"
     ]
    }
   ],
   "source": [
    "import nltk\n",
    "import urllib\n",
    "import bs4 as bs\n",
    "import re \n",
    "\n",
    "\n",
    "\n",
    "def weikipedia(url):\n",
    "    try:\n",
    "        source = urllib.request.urlopen(url)\n",
    "        soup = bs.BeautifulSoup(source,'html')\n",
    "\n",
    "        text = \"\"\n",
    "        for para in soup.find_all('p'):\n",
    "            text = text+para.text\n",
    "\n",
    "            text = re.sub(r'\\n',' ',text)\n",
    "            text = re.sub(r'\\[[0-9]*\\]',' ',text)\n",
    "            text = re.sub(r'\\ \\' ',' ',text)\n",
    "            text = text.replace(\"\\'\",\"\") \n",
    "\n",
    "            # preprocess\n",
    "            text = text.split('.')\n",
    "            text =text[0:15]\n",
    "            text = str(text)\n",
    "            text = text.replace(\"', '\",\".\") \n",
    "            text =text.replace(\"['\",\"\") \n",
    "            text = text.replace(\"']\",\".\")\n",
    "        \n",
    "        \n",
    "        return text\n",
    "    except:\n",
    "        return \"Woops! No Internet Connection\"\n",
    "        \n",
    "searchString  = input(\"Enter Name: \")\n",
    "searchString = searchString.replace(\" \",\"_\") \n",
    "url = \"https://en.wikipedia.org/wiki/\" + searchString\n",
    "info = weikipedia(url)\n",
    "print(str(info))\n"
   ]
  },
  {
   "cell_type": "code",
   "execution_count": null,
   "metadata": {},
   "outputs": [],
   "source": []
  }
 ],
 "metadata": {
  "kernelspec": {
   "display_name": "Python 3",
   "language": "python",
   "name": "python3"
  },
  "language_info": {
   "codemirror_mode": {
    "name": "ipython",
    "version": 3
   },
   "file_extension": ".py",
   "mimetype": "text/x-python",
   "name": "python",
   "nbconvert_exporter": "python",
   "pygments_lexer": "ipython3",
   "version": "3.7.6"
  }
 },
 "nbformat": 4,
 "nbformat_minor": 4
}
